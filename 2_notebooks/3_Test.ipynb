{
 "cells": [
  {
   "cell_type": "code",
   "execution_count": 1,
   "metadata": {},
   "outputs": [
    {
     "name": "stdout",
     "output_type": "stream",
     "text": [
      "Spark context Web UI available at http://cluster-10fc-m.c.gel-sassandbox.internal:4041\n",
      "Spark context available as 'sc' (master = local[*], app id = local-1587208258298).\n",
      "Spark session available as 'spark'.\n",
      "Welcome to\n",
      "      ____              __\n",
      "     / __/__  ___ _____/ /__\n",
      "    _\\ \\/ _ \\/ _ `/ __/  '_/\n",
      "   /___/ .__/\\_,_/_/ /_/\\_\\   version 2.4.5\n",
      "      /_/\n",
      "         \n",
      "Using Scala version 2.11.12 (OpenJDK 64-Bit Server VM, Java 1.8.0_242)\n",
      "Type in expressions to have them evaluated.\n",
      "Type :help for more information.\n",
      "\n",
      "scala> :quit\n"
     ]
    },
    {
     "name": "stderr",
     "output_type": "stream",
     "text": [
      "Ivy Default Cache set to: /root/.ivy2/cache\n",
      "The jars for the packages stored in: /root/.ivy2/jars\n",
      ":: loading settings :: url = jar:file:/opt/conda/anaconda/lib/python2.7/site-packages/pyspark/jars/ivy-2.4.0.jar!/org/apache/ivy/core/settings/ivysettings.xml\n",
      "ml.combust.mleap#mleap-spark_2.11 added as a dependency\n",
      ":: resolving dependencies :: org.apache.spark#spark-submit-parent-b95b8d2c-4ef1-457d-8d0e-14eaba307c83;1.0\n",
      "\tconfs: [default]\n",
      "\tfound ml.combust.mleap#mleap-spark_2.11;0.15.0 in central\n",
      "\tfound ml.combust.mleap#mleap-spark-base_2.11;0.15.0 in central\n",
      "\tfound ml.combust.mleap#mleap-runtime_2.11;0.15.0 in central\n",
      "\tfound ml.combust.mleap#mleap-core_2.11;0.15.0 in central\n",
      "\tfound ml.combust.mleap#mleap-base_2.11;0.15.0 in central\n",
      "\tfound ml.combust.mleap#mleap-tensor_2.11;0.15.0 in central\n",
      "\tfound io.spray#spray-json_2.11;1.3.2 in central\n",
      "\tfound com.github.rwl#jtransforms;2.4.0 in central\n",
      "\tfound ml.combust.bundle#bundle-ml_2.11;0.15.0 in central\n",
      "\tfound com.google.protobuf#protobuf-java;3.5.1 in central\n",
      "\tfound com.thesamet.scalapb#scalapb-runtime_2.11;0.7.1 in central\n",
      "\tfound com.thesamet.scalapb#lenses_2.11;0.7.0-test2 in central\n",
      "\tfound com.lihaoyi#fastparse_2.11;1.0.0 in central\n",
      "\tfound com.lihaoyi#fastparse-utils_2.11;1.0.0 in central\n",
      "\tfound com.lihaoyi#sourcecode_2.11;0.1.4 in central\n",
      "\tfound com.jsuereth#scala-arm_2.11;2.0 in central\n",
      "\tfound com.typesafe#config;1.3.0 in central\n",
      "\tfound commons-io#commons-io;2.5 in central\n",
      "\tfound org.scala-lang#scala-reflect;2.11.8 in central\n",
      "\tfound ml.combust.bundle#bundle-hdfs_2.11;0.15.0 in central\n",
      ":: resolution report :: resolve 626ms :: artifacts dl 16ms\n",
      "\t:: modules in use:\n",
      "\tcom.github.rwl#jtransforms;2.4.0 from central in [default]\n",
      "\tcom.google.protobuf#protobuf-java;3.5.1 from central in [default]\n",
      "\tcom.jsuereth#scala-arm_2.11;2.0 from central in [default]\n",
      "\tcom.lihaoyi#fastparse-utils_2.11;1.0.0 from central in [default]\n",
      "\tcom.lihaoyi#fastparse_2.11;1.0.0 from central in [default]\n",
      "\tcom.lihaoyi#sourcecode_2.11;0.1.4 from central in [default]\n",
      "\tcom.thesamet.scalapb#lenses_2.11;0.7.0-test2 from central in [default]\n",
      "\tcom.thesamet.scalapb#scalapb-runtime_2.11;0.7.1 from central in [default]\n",
      "\tcom.typesafe#config;1.3.0 from central in [default]\n",
      "\tcommons-io#commons-io;2.5 from central in [default]\n",
      "\tio.spray#spray-json_2.11;1.3.2 from central in [default]\n",
      "\tml.combust.bundle#bundle-hdfs_2.11;0.15.0 from central in [default]\n",
      "\tml.combust.bundle#bundle-ml_2.11;0.15.0 from central in [default]\n",
      "\tml.combust.mleap#mleap-base_2.11;0.15.0 from central in [default]\n",
      "\tml.combust.mleap#mleap-core_2.11;0.15.0 from central in [default]\n",
      "\tml.combust.mleap#mleap-runtime_2.11;0.15.0 from central in [default]\n",
      "\tml.combust.mleap#mleap-spark-base_2.11;0.15.0 from central in [default]\n",
      "\tml.combust.mleap#mleap-spark_2.11;0.15.0 from central in [default]\n",
      "\tml.combust.mleap#mleap-tensor_2.11;0.15.0 from central in [default]\n",
      "\torg.scala-lang#scala-reflect;2.11.8 from central in [default]\n",
      "\t:: evicted modules:\n",
      "\tcom.google.protobuf#protobuf-java;3.5.0 by [com.google.protobuf#protobuf-java;3.5.1] in [default]\n",
      "\t---------------------------------------------------------------------\n",
      "\t|                  |            modules            ||   artifacts   |\n",
      "\t|       conf       | number| search|dwnlded|evicted|| number|dwnlded|\n",
      "\t---------------------------------------------------------------------\n",
      "\t|      default     |   21  |   0   |   0   |   1   ||   20  |   0   |\n",
      "\t---------------------------------------------------------------------\n",
      ":: retrieving :: org.apache.spark#spark-submit-parent-b95b8d2c-4ef1-457d-8d0e-14eaba307c83\n",
      "\tconfs: [default]\n",
      "\t0 artifacts copied, 20 already retrieved (0kB/16ms)\n",
      "20/04/18 11:10:50 WARN NativeCodeLoader: Unable to load native-hadoop library for your platform... using builtin-java classes where applicable\n",
      "Using Spark's default log4j profile: org/apache/spark/log4j-defaults.properties\n",
      "Setting default log level to \"WARN\".\n",
      "To adjust logging level use sc.setLogLevel(newLevel). For SparkR, use setLogLevel(newLevel).\n",
      "20/04/18 11:10:58 WARN Utils: Service 'SparkUI' could not bind on port 4040. Attempting port 4041.\n"
     ]
    }
   ],
   "source": [
    "%%bash\n",
    "spark-shell --packages ml.combust.mleap:mleap-spark_2.11:0.15.0"
   ]
  },
  {
   "cell_type": "code",
   "execution_count": 12,
   "metadata": {},
   "outputs": [],
   "source": [
    "%%bash\n",
    "mv /root/.ivy2/jars/*.jar /usr/lib/spark/jars"
   ]
  },
  {
   "cell_type": "code",
   "execution_count": 11,
   "metadata": {},
   "outputs": [
    {
     "name": "stdout",
     "output_type": "stream",
     "text": [
      "bin\n",
      "conf\n",
      "data\n",
      "examples\n",
      "external\n",
      "jars\n",
      "LICENSE\n",
      "licenses\n",
      "NOTICE\n",
      "python\n",
      "R\n",
      "README.md\n",
      "RELEASE\n",
      "sbin\n",
      "work\n",
      "yarn\n"
     ]
    }
   ],
   "source": [
    "%%bash\n",
    "ls /usr/lib/spark"
   ]
  },
  {
   "cell_type": "code",
   "execution_count": 10,
   "metadata": {},
   "outputs": [
    {
     "name": "stdout",
     "output_type": "stream",
     "text": [
      "spark: /usr/lib/spark /etc/spark\n"
     ]
    }
   ],
   "source": [
    "%%bash\n",
    "whereis spark"
   ]
  },
  {
   "cell_type": "code",
   "execution_count": 14,
   "metadata": {},
   "outputs": [
    {
     "name": "stdout",
     "output_type": "stream",
     "text": [
      "/\r\n"
     ]
    }
   ],
   "source": [
    "!pwd"
   ]
  },
  {
   "cell_type": "code",
   "execution_count": 22,
   "metadata": {},
   "outputs": [
    {
     "name": "stderr",
     "output_type": "stream",
     "text": [
      "--2020-04-18 11:41:17--  https://github.com/IvanNardini/Databricks_MLflow_GCP/blob/master/2_notebooks/output/ModelProjects_Boston_ML_lrModel.zip?raw=true\n",
      "Resolving github.com (github.com)... 140.82.118.4\n",
      "Connecting to github.com (github.com)|140.82.118.4|:443... connected.\n",
      "HTTP request sent, awaiting response... 302 Found\n",
      "Location: https://github.com/IvanNardini/Databricks_MLflow_GCP/raw/master/2_notebooks/output/ModelProjects_Boston_ML_lrModel.zip [following]\n",
      "--2020-04-18 11:41:17--  https://github.com/IvanNardini/Databricks_MLflow_GCP/raw/master/2_notebooks/output/ModelProjects_Boston_ML_lrModel.zip\n",
      "Reusing existing connection to github.com:443.\n",
      "HTTP request sent, awaiting response... 302 Found\n",
      "Location: https://raw.githubusercontent.com/IvanNardini/Databricks_MLflow_GCP/master/2_notebooks/output/ModelProjects_Boston_ML_lrModel.zip [following]\n",
      "--2020-04-18 11:41:17--  https://raw.githubusercontent.com/IvanNardini/Databricks_MLflow_GCP/master/2_notebooks/output/ModelProjects_Boston_ML_lrModel.zip\n",
      "Resolving raw.githubusercontent.com (raw.githubusercontent.com)... 151.101.0.133, 151.101.64.133, 151.101.128.133, ...\n",
      "Connecting to raw.githubusercontent.com (raw.githubusercontent.com)|151.101.0.133|:443... connected.\n",
      "HTTP request sent, awaiting response... 200 OK\n",
      "Length: 1103 (1.1K) [application/zip]\n",
      "Saving to: ‘/tmp/ModelProjects_Boston_ML_lrModel.zip?raw=true.1’\n",
      "\n",
      "     0K .                                                     100% 76.6M=0s\n",
      "\n",
      "2020-04-18 11:41:17 (76.6 MB/s) - ‘/tmp/ModelProjects_Boston_ML_lrModel.zip?raw=true.1’ saved [1103/1103]\n",
      "\n"
     ]
    }
   ],
   "source": [
    "%%bash\n",
    "wget \"https://github.com/IvanNardini/Databricks_MLflow_GCP/blob/master/2_notebooks/output/ModelProjects_Boston_ML_lrModel.zip?raw=true\" -P /tmp"
   ]
  },
  {
   "cell_type": "code",
   "execution_count": 28,
   "metadata": {},
   "outputs": [
    {
     "name": "stdout",
     "output_type": "stream",
     "text": [
      "total 1156\r\n",
      "drwxrwxrwt 33 root   root     4096 Apr 18 11:59 .\r\n",
      "drwxr-xr-x 23 root   root     4096 Apr 18 11:58 ..\r\n",
      "drwxr-xr-x  2 hive   hive     4096 Apr 18 10:34 39a5a53f-328a-419b-a477-0d331294a20d_resources\r\n",
      "drwxr-xr-x  2 root   root     4096 Apr 18 11:10 blockmgr-1443ee9d-86e3-486a-85ca-9b0a578066ee\r\n",
      "-rw-r--r--  1 root   root      769 Apr 18 10:33 bq-mapred-template.xml\r\n",
      "-rw-r--r--  1 root   root      867 Apr 18 10:33 capacity-scheduler-template.xml\r\n",
      "drwxr-xr-x  3 root   root     4096 Apr 18 10:33 cluster\r\n",
      "-rw-r--r--  1 root   root    34062 Apr 18 10:33 configuration_script.sh\r\n",
      "-rwxr-xr-x  1 root   root     7452 Apr 18 10:33 configure_mrv2_mem.py\r\n",
      "-rw-r--r--  1 root   root     2336 Apr 18 10:33 core-ha-template.xml\r\n",
      "-rw-r--r--  1 root   root     1147 Apr 18 10:33 core-template.xml\r\n",
      "drwxr-xr-x  3 root   root     4096 Apr 18 10:33 dataproc\r\n",
      "drwx------  2 root   root     4096 Apr 18 10:41 dataproc-agent700416453350008057\r\n",
      "-rw-r--r--  1 root   root    27848 Apr 18 10:33 dataproc_env.sh\r\n",
      "-rw-r--r--  1 root   root     1987 Apr 18 10:33 distcp-template.xml\r\n",
      "drwxrwxrwt  2 root   root     4096 Apr 18 10:32 .font-unix\r\n",
      "-rw-r--r--  1 root   root     3245 Apr 18 10:33 gcs-core-template.xml\r\n",
      "drwxr-xr-x  5 hive   hive     4096 Apr 18 10:34 hadoop-unjar2667704951025505036\r\n",
      "drwxr-xr-x  4 hive   hive     4096 Apr 18 10:33 hadoop-unjar653400491817886594\r\n",
      "-rw-r--r--  1 root   root     6818 Apr 18 10:33 hdfs-ha-template.xml\r\n",
      "-rw-r--r--  1 root   root      894 Apr 18 10:33 hdfs-simplification-ha-mixins.xml\r\n",
      "-rw-r--r--  1 root   root      520 Apr 18 10:33 hdfs-simplification-mixins.xml\r\n",
      "-rw-r--r--  1 root   root     4250 Apr 18 10:33 hdfs-template.xml\r\n",
      "drwxr-xr-x  4 hive   hive     4096 Apr 18 10:34 hive\r\n",
      "-rw-r--r--  1 root   root      699 Apr 18 10:33 hive-ha-mixins.xml\r\n",
      "-rw-r--r--  1 root   root     1747 Apr 18 10:33 hive-template.xml\r\n",
      "drwxr-xr-x  2 hdfs   hdfs     4096 Apr 18 10:33 hsperfdata_hdfs\r\n",
      "drwxr-xr-x  2 hive   hive     4096 Apr 18 10:34 hsperfdata_hive\r\n",
      "drwxr-xr-x  2 knox   knox     4096 Apr 18 10:33 hsperfdata_knox\r\n",
      "drwxr-xr-x  2 mapred mapred   4096 Apr 18 10:33 hsperfdata_mapred\r\n",
      "drwxr-xr-x  2 root   root     4096 Apr 18 11:37 hsperfdata_root\r\n",
      "drwxr-xr-x  2 spark  spark    4096 Apr 18 10:34 hsperfdata_spark\r\n",
      "drwxr-xr-x  2 yarn   yarn     4096 Apr 18 10:33 hsperfdata_yarn\r\n",
      "drwxrwxrwt  2 root   root     4096 Apr 18 10:32 .ICE-unix\r\n",
      "drwxr-xr-x  5 hive   hive     4096 Apr 18 10:34 jetty-0.0.0.0-10002-hiveserver2-_-any-\r\n",
      "drwxr-xr-x  4 yarn   yarn     4096 Apr 18 10:33 Jetty_0_0_0_0_8088_cluster____u0rgz3\r\n",
      "drwxr-xr-x  4 yarn   yarn     4096 Apr 18 10:33 Jetty_0_0_0_0_8188_applicationhistory____h7yuc2\r\n",
      "drwxr-xr-x  5 yarn   yarn     4096 Apr 18 10:33 Jetty_0_0_0_0_8188_tez.ui.0.9.2.war__tez.ui__.zby1dy\r\n",
      "drwxr-xr-x  3 hdfs   hdfs     4096 Apr 18 10:33 Jetty_0_0_0_0_9868_secondary____.dlic4\r\n",
      "drwxr-xr-x  3 hdfs   hdfs     4096 Apr 18 10:33 Jetty_0_0_0_0_9870_hdfs____6kybzg\r\n",
      "drwxr-xr-x  4 mapred mapred   4096 Apr 18 10:34 Jetty_cluster.10fc.m_19888_jobhistory____gj16a2\r\n",
      "drwxr-xr-x  2 root   root     4096 Apr 18 10:33 knox\r\n",
      "-rwxr-xr-x  1 yarn   yarn   752803 Apr 18 10:33 libleveldbjni-64-1-4549185571423704769.8\r\n",
      "-rw-r--r--  1 root   root     7896 Apr 18 10:33 mapred-template.xml\r\n",
      "-rw-r--r--  1 root   root    67550 Apr 18 11:33 ModelProjects_Boston_ML_lrModel.zip\r\n",
      "-rw-r--r--  1 root   root     1103 Apr 18 11:40 ModelProjects_Boston_ML_lrModel.zip?raw=true\r\n",
      "-rw-r--r--  1 root   root     1103 Apr 18 11:41 ModelProjects_Boston_ML_lrModel.zip?raw=true.1\r\n",
      "-rw-r--r--  1 root   root      195 Apr 18 11:59 model.zip\r\n",
      "-rw-------  1 root   root      397 Apr 18 10:33 mrv2_0l7_tmp_env.sh\r\n",
      "-rw-------  1 root   root      294 Apr 18 10:33 mysql_upgrade-3F8r6T\r\n",
      "-rw-------  1 root   root      294 Apr 18 10:33 mysql_upgrade-F6SSbo\r\n",
      "-rw-------  1 root   root      294 Apr 18 10:33 mysql_upgrade-KPSZFf\r\n",
      "-rw-------  1 root   root      294 Apr 18 10:33 mysql_upgrade-mvkppH\r\n",
      "-rw-------  1 root   root      294 Apr 18 10:33 mysql_upgrade-SFoFvt\r\n",
      "-rw-------  1 root   root      294 Apr 18 10:33 mysql_upgrade-Y811Tb\r\n",
      "srwx------  1 root   root        0 Apr 18 10:33 SERVERENGINE_SOCKETMANAGER_2020-04-18T10:33:20Z_2238\r\n",
      "drwxr-xr-x  6 knox   knox     4096 Apr 18 10:33 server-work-57213292-0c25-477c-b818-1bdd9c4c1193\r\n",
      "-rw-r--r--  1 root   root     4384 Apr 18 10:33 setup_nfs.sh\r\n",
      "drwxr-xr-x  2 root   root     4096 Apr 18 11:10 spark-be620ac5-575d-4a9e-83b9-e096695e2571\r\n",
      "drwx------  4 root   root     4096 Apr 18 11:10 spark-c7db05cc-05b8-4082-b302-8c7d50038e3e\r\n",
      "-rw-------  1 root   root       61 Apr 18 10:33 sqlGuB7Jr\r\n",
      "-rw-------  1 root   root       61 Apr 18 10:33 sqlXvQWoW\r\n",
      "drwxrwxrwt  2 root   root     4096 Apr 18 10:32 .Test-unix\r\n",
      "drwxrwxrwt  2 root   root     4096 Apr 18 10:32 .X11-unix\r\n",
      "drwxrwxrwt  2 root   root     4096 Apr 18 10:32 .XIM-unix\r\n",
      "-rw-r--r--  1 root   root     8995 Apr 18 10:33 yarn-ha-template.xml\r\n",
      "-rw-r--r--  1 root   root     2058 Apr 18 10:33 yarn-simplification-ha-mixins.xml\r\n",
      "-rw-r--r--  1 root   root     1632 Apr 18 10:33 yarn-simplification-mixins.xml\r\n",
      "-rw-r--r--  1 root   root     4595 Apr 18 10:33 yarn-template.xml\r\n"
     ]
    }
   ],
   "source": [
    "!ls -la /tmp"
   ]
  },
  {
   "cell_type": "code",
   "execution_count": 27,
   "metadata": {},
   "outputs": [
    {
     "name": "stderr",
     "output_type": "stream",
     "text": [
      "  % Total    % Received % Xferd  Average Speed   Time    Time     Time  Current\n",
      "                                 Dload  Upload   Total   Spent    Left  Speed\n",
      "\r",
      "  0     0    0     0    0     0      0      0 --:--:-- --:--:-- --:--:--     0\r",
      "100   195  100   195    0     0   1140      0 --:--:-- --:--:-- --:--:--  1140\n"
     ]
    }
   ],
   "source": [
    "%%bash\n",
    "curl -X GET https://github.com/IvanNardini/Databricks_MLflow_GCP/raw/master/2_notebooks/output/ModelProjects_Boston_ML_lrModel.zip --output /tmp/model.zip"
   ]
  },
  {
   "cell_type": "code",
   "execution_count": null,
   "metadata": {},
   "outputs": [],
   "source": [
    "curl -L https://github.com/IvanNardini/Databricks_MLflow_GCP/raw/master/2_notebooks/output/ModelProjects_Boston_ML_lrModel.zip --output /tmp/model.zip"
   ]
  }
 ],
 "metadata": {
  "kernelspec": {
   "display_name": "PySpark",
   "language": "python",
   "name": "pyspark"
  },
  "language_info": {
   "codemirror_mode": {
    "name": "ipython",
    "version": 2
   },
   "file_extension": ".py",
   "mimetype": "text/x-python",
   "name": "python",
   "nbconvert_exporter": "python",
   "pygments_lexer": "ipython2",
   "version": "2.7.14"
  }
 },
 "nbformat": 4,
 "nbformat_minor": 2
}